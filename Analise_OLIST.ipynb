{
  "nbformat": 4,
  "nbformat_minor": 0,
  "metadata": {
    "colab": {
      "provenance": [],
      "authorship_tag": "ABX9TyNfZ2KKvXpctnZh6SAvg1IU",
      "include_colab_link": true
    },
    "kernelspec": {
      "name": "python3",
      "display_name": "Python 3"
    },
    "language_info": {
      "name": "python"
    }
  },
  "cells": [
    {
      "cell_type": "markdown",
      "metadata": {
        "id": "view-in-github",
        "colab_type": "text"
      },
      "source": [
        "<a href=\"https://colab.research.google.com/github/HelioPOliveira/HelioPOliveira/blob/main/Analise_OLIST.ipynb\" target=\"_parent\"><img src=\"https://colab.research.google.com/assets/colab-badge.svg\" alt=\"Open In Colab\"/></a>"
      ]
    },
    {
      "cell_type": "markdown",
      "source": [
        "### Upload das bases da OLIST"
      ],
      "metadata": {
        "id": "rPsjJZtwIPzn"
      }
    },
    {
      "cell_type": "code",
      "execution_count": 35,
      "metadata": {
        "id": "rXJPiDru-HJp"
      },
      "outputs": [],
      "source": [
        "import pandas as pd\n",
        "\n",
        "# Carregando o arquivo CSV em um DataFrame\n",
        "df_seller = pd.read_csv('olist_sellers_dataset.csv')\n",
        "df_customer = pd.read_csv('olist_customers_dataset.csv')\n",
        "df_geolocation = pd.read_csv('olist_geolocation_dataset.csv')\n",
        "df_order = pd.read_csv('olist_order_items_dataset.csv')\n",
        "df_payment = pd.read_csv('olist_order_payments_dataset.csv')\n",
        "df_review = pd.read_csv('olist_order_reviews_dataset.csv')\n",
        "df_orders = pd.read_csv('olist_orders_dataset.csv')\n",
        "df_product = pd.read_csv('olist_products_dataset.csv')\n",
        "df_category = pd.read_csv('product_category_name_translation.csv')\n",
        "\n"
      ]
    },
    {
      "cell_type": "markdown",
      "source": [
        "### Analisando as bases da OLIST"
      ],
      "metadata": {
        "id": "nWn5HeQ7IIYR"
      }
    },
    {
      "cell_type": "code",
      "source": [
        "import pandas as pd\n",
        "\n",
        "# Carregando o arquivo CSV em um DataFrame\n",
        "df = pd.read_csv(file_names[3])\n",
        "\n",
        "# Visualizando as primeiras linhas do DataFrame\n",
        "print(\"Primeiras linhas do DataFrame:\")\n",
        "print(df.head())\n",
        "\n",
        "# Visualizando uma amostra aleatória do DataFrame\n",
        "print(\"\\nAmostra aleatória do DataFrame:\")\n",
        "print(df.sample(10))"
      ],
      "metadata": {
        "colab": {
          "base_uri": "https://localhost:8080/"
        },
        "id": "9EuPjcQrBSrE",
        "outputId": "7ac6ef04-b0af-4e4b-89ff-bd4c17273a3f"
      },
      "execution_count": 25,
      "outputs": [
        {
          "output_type": "stream",
          "name": "stdout",
          "text": [
            "Primeiras linhas do DataFrame:\n",
            "                           order_id  payment_sequential payment_type  \\\n",
            "0  b81ef226f3fe1789b1e8b2acac839d17                   1  credit_card   \n",
            "1  a9810da82917af2d9aefd1278f1dcfa0                   1  credit_card   \n",
            "2  25e8ea4e93396b6fa0d3dd708e76c1bd                   1  credit_card   \n",
            "3  ba78997921bbcdc1373bb41e913ab953                   1  credit_card   \n",
            "4  42fdf880ba16b47b59251dd489d4441a                   1  credit_card   \n",
            "\n",
            "   payment_installments  payment_value  \n",
            "0                     8          99.33  \n",
            "1                     1          24.39  \n",
            "2                     1          65.71  \n",
            "3                     8         107.78  \n",
            "4                     2         128.45  \n",
            "\n",
            "Amostra aleatória do DataFrame:\n",
            "                               order_id  payment_sequential payment_type  \\\n",
            "68021  f3d73893c5b2bd8aed47d188dd5484ae                   1   debit_card   \n",
            "50313  2f08b7d5e2f0cb3a1e8a8c95579a6b34                   1   debit_card   \n",
            "73320  72473b65d11c21455f589854da03879a                   1  credit_card   \n",
            "87110  39263e1d21c19dd12321cbdb04b3175c                   1  credit_card   \n",
            "65274  ea63d003e45a23a57429b135d4595111                   1       boleto   \n",
            "91762  b11ef0887d152f735e9b39864eae2ad3                   1  credit_card   \n",
            "7906   b5a015f522905531762c38c60f7e9a4a                   1  credit_card   \n",
            "45090  fad816458419d971cf858054b4482acc                   1   debit_card   \n",
            "29193  1d5d115e7464f3ec6686c8b290973878                   1       boleto   \n",
            "88797  a40c3d3b781b68ed6011193c6105eda1                   1  credit_card   \n",
            "\n",
            "       payment_installments  payment_value  \n",
            "68021                     1         209.51  \n",
            "50313                     1          67.67  \n",
            "73320                     3          53.90  \n",
            "87110                     8         246.36  \n",
            "65274                     1         116.33  \n",
            "91762                     6          97.77  \n",
            "7906                      3         183.25  \n",
            "45090                     1          65.00  \n",
            "29193                     1          83.50  \n",
            "88797                     5         315.87  \n"
          ]
        }
      ]
    },
    {
      "cell_type": "markdown",
      "source": [
        "## Quantidade de vendedores por estado"
      ],
      "metadata": {
        "id": "55nDu7xTIG1-"
      }
    },
    {
      "cell_type": "code",
      "source": [
        "import pandas as pd\n",
        "\n",
        "# Usando groupby para agrupar os dados por estado do vendedor e contar o número de vendedores em cada estado\n",
        "total_seller_state = df.groupby('seller_state')['seller_id'].count()\n",
        "\n",
        "# Ordenando o DataFrame do maior para o menor\n",
        "total_seller_state_sorted = total_seller_state.sort_values(ascending=False)\n",
        "\n",
        "# Calculando a porcentagem do total\n",
        "total_porcentagem = (total_seller_state_sorted / total_seller_state_sorted.sum()) * 100\n",
        "\n",
        "# Criando um novo DataFrame com as contagens e porcentagens\n",
        "df_resultado = pd.DataFrame({'Quantidade': total_seller_state_sorted, 'Porcentagem (%)': total_porcentagem})\n",
        "\n",
        "# Exibindo o resultado\n",
        "print(df_resultado)\n"
      ],
      "metadata": {
        "colab": {
          "base_uri": "https://localhost:8080/"
        },
        "id": "rXvgcLgMEssD",
        "outputId": "8e4e41ca-063c-428c-b0e5-8d2232d53cbd"
      },
      "execution_count": 37,
      "outputs": [
        {
          "output_type": "stream",
          "name": "stdout",
          "text": [
            "              Quantidade  Porcentagem (%)\n",
            "seller_state                             \n",
            "SP                  1849        59.741519\n",
            "PR                   349        11.276252\n",
            "MG                   244         7.883683\n",
            "SC                   190         6.138934\n",
            "RJ                   171         5.525040\n",
            "RS                   129         4.168013\n",
            "GO                    40         1.292407\n",
            "DF                    30         0.969305\n",
            "ES                    23         0.743134\n",
            "BA                    19         0.613893\n",
            "CE                    13         0.420032\n",
            "PE                     9         0.290792\n",
            "PB                     6         0.193861\n",
            "MS                     5         0.161551\n",
            "RN                     5         0.161551\n",
            "MT                     4         0.129241\n",
            "RO                     2         0.064620\n",
            "SE                     2         0.064620\n",
            "AC                     1         0.032310\n",
            "PI                     1         0.032310\n",
            "AM                     1         0.032310\n",
            "MA                     1         0.032310\n",
            "PA                     1         0.032310\n"
          ]
        }
      ]
    }
  ]
}